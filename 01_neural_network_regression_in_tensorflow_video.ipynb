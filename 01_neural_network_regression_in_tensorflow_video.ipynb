{
  "nbformat": 4,
  "nbformat_minor": 0,
  "metadata": {
    "colab": {
      "provenance": [],
      "toc_visible": true,
      "authorship_tag": "ABX9TyOVlSXU2UzNovUu3bkKD1eV",
      "include_colab_link": true
    },
    "kernelspec": {
      "name": "python3",
      "display_name": "Python 3"
    },
    "language_info": {
      "name": "python"
    }
  },
  "cells": [
    {
      "cell_type": "markdown",
      "metadata": {
        "id": "view-in-github",
        "colab_type": "text"
      },
      "source": [
        "<a href=\"https://colab.research.google.com/github/souravdev-eng/tensor-flow-bootcamp/blob/main/01_neural_network_regression_in_tensorflow_video.ipynb\" target=\"_parent\"><img src=\"https://colab.research.google.com/assets/colab-badge.svg\" alt=\"Open In Colab\"/></a>"
      ]
    },
    {
      "cell_type": "markdown",
      "source": [
        "# 01. Nural Network Regression with TensorFlow\n",
        "There are many definations for a regression problem but our case, we're going to simplify it to be: predicting a number.\n",
        "\n",
        "For example, you might want to:\n",
        "\n",
        "* Predict the selling price of houses given information about them (such as number of rooms, size, number of bathrooms).\n",
        "* Predict the coordinates of a bounding box of an item in an image.\n",
        "* Predict the cost of medical insurance for an individual given their demographics (age, sex, gender, race).\n",
        "\n",
        "In this notebook, we're going to set the foundations for how you can take a sample of inputs (this is your data), build a neural network to discover patterns in those inputs and then make a prediction (in the form of a number) based on those inputs."
      ],
      "metadata": {
        "id": "a8Ug73Pt5FXz"
      }
    },
    {
      "cell_type": "markdown",
      "source": [
        "## What we're going to cover\n",
        "\n",
        "\n",
        "Specifically, we're going to go through doing the following with TensorFlow:\n",
        "\n",
        "* Architecture of a regression model\n",
        "* Input shapes and output shapes\n",
        "  * `X`: features/data (inputs)\n",
        "  * `y`: labels (outputs)\n",
        "* Creating custom data to view and fit\n",
        "* Steps in modelling\n",
        "  * Creating a model\n",
        "  * Compiling a model\n",
        "    * Defining a loss function\n",
        "    * Setting up an optimizer\n",
        "    * Creating evaluation metrics\n",
        "  * Fitting a model (getting it to find patterns in our data)\n",
        "* Evaluating a model\n",
        "  * Visualizng the model (\"visualize, visualize, visualize\")\n",
        "  * Looking at training curves\n",
        "  * Compare predictions to ground truth (using our evaluation metrics)\n",
        "* Saving a model (so we can use it later)\n",
        "* Loading a model\n"
      ],
      "metadata": {
        "id": "4whbJE15brUG"
      }
    },
    {
      "cell_type": "markdown",
      "source": [
        "## Typical architecture of a regresison neural network\n",
        "\n",
        "The word typical is on purpose.\n",
        "\n",
        "**Why?**\n",
        "\n",
        "Because there are many different ways (actually, there's almost an infinite number of ways) to write neural networks.\n",
        "\n",
        "But the following is a generic setup for ingesting a collection of numbers, finding patterns in them and then outputting some kind of target number.\n",
        "\n",
        "Yes, the previous sentence is vague but we'll see this in action shortly.\n",
        "\n",
        "* Input layer shape : Same shape as number of features (e.g. 3 for # bedrooms, # bathrooms, # car spaces in housing price prediction)\n",
        "\n",
        "* Hidden layer(s): Problem specific, minimum = 1, maximum = unlimited\n",
        "\n",
        "* Neurons per hidden layer:\tProblem specific, generally 10 to 100\n",
        "\n",
        "* Output layer shape:\tSame shape as desired prediction shape (e.g. 1 for house price)\n",
        "\n",
        "\n",
        "* Hidden activation:\tUsually [ReLU](https://www.kaggle.com/code/dansbecker/rectified-linear-units-relu-in-deep-learning) (rectified linear unit)\n",
        "\n",
        "* Output activation:\tNone, ReLU, logistic/tanh\n",
        "\n",
        "* Loss function:\tMSE (mean square error) or MAE (mean absolute error)/Huber (combination of MAE/MSE) if outliers\n",
        "\n",
        "* Optimizer:\t[SGD](https://www.tensorflow.org/api_docs/python/tf/keras/optimizers/SGD) (stochastic gradient descent), [Adam](https://www.tensorflow.org/api_docs/python/tf/keras/optimizers/Adam)\n",
        "\n",
        "Table 1: Typical architecture of a regression network. Source: Adapted from page 293 of [Hands-On Machine Learning with Scikit-Learn, Keras & TensorFlow Book by Aurélien Géron](https://www.oreilly.com/library/view/hands-on-machine-learning/9781492032632/)\n",
        "\n",
        "> 🔑 **Note:** A **hyperparameter** in machine learning is something a data analyst or developer can set themselves, where as a **parameter** usually describes something a model learns on its own (a value not explicitly set by an analyst)."
      ],
      "metadata": {
        "id": "sKt4Fqwfded_"
      }
    },
    {
      "cell_type": "code",
      "source": [
        "import tensorflow as tf\n",
        "print(tf.__version__)\n",
        "\n",
        "import datetime\n",
        "print(f\"Notebook last run (end-to-end) : {datetime.datetime.now()}\")"
      ],
      "metadata": {
        "colab": {
          "base_uri": "https://localhost:8080/"
        },
        "id": "8r271cP5h7gz",
        "outputId": "53869fb4-cef9-4dca-f635-9c6124d8da0a"
      },
      "execution_count": 1,
      "outputs": [
        {
          "output_type": "stream",
          "name": "stdout",
          "text": [
            "2.15.0\n",
            "Notebook last run (end-to-end) : 2024-04-04 12:36:42.324200\n"
          ]
        }
      ]
    },
    {
      "cell_type": "markdown",
      "source": [
        "## Creating data to view and fit\n",
        "Since we're working on a regression problem (predicting a number) let's create some linear data (a straight line) to model.\n"
      ],
      "metadata": {
        "id": "iboavmDdiIeD"
      }
    },
    {
      "cell_type": "code",
      "source": [
        "import numpy as np\n",
        "import matplotlib.pyplot as plt\n",
        "\n",
        "# Create features\n",
        "X = np.array([-7.0, -4.0, -1.0, 2.0, 5.0, 8.0, 11.0, 14.0])\n",
        "\n",
        "# Create labels\n",
        "y = np.array([3.0, 6.0, 9.0, 12.0, 15.0, 18.0, 21.0, 24.0])\n",
        "\n",
        "# Visualize it\n",
        "plt.scatter(X, y);"
      ],
      "metadata": {
        "colab": {
          "base_uri": "https://localhost:8080/",
          "height": 435
        },
        "id": "fobl-Qm1ieDt",
        "outputId": "b050c67f-8791-4ac3-d4ba-0897a5ab7378"
      },
      "execution_count": 2,
      "outputs": [
        {
          "output_type": "display_data",
          "data": {
            "text/plain": [
              "<Figure size 640x480 with 1 Axes>"
            ],
            "image/png": "[encoded data removed]"
          },
          "metadata": {}
        }
      ]
    },
    {
      "cell_type": "markdown",
      "source": [
        "## Regression input shapes and output shapes\n",
        "One of the most important concepts when working with neural networks are the input and output shapes.\n",
        "\n",
        "The **input shape** is the shape of your data that goes into the model.\n",
        "\n",
        "The **output shape** is the shape of your data you want to come out of your model.\n",
        "\n",
        "These will differ depending on the problem you're working on.\n",
        "\n",
        "Neural networks accept numbers and output numbers. These numbers are typically represented as tensors (or arrays).\n",
        "\n",
        "Before, we created data using NumPy arrays, but we could do the same with tensors."
      ],
      "metadata": {
        "id": "ymwodq1Zir0k"
      }
    },
    {
      "cell_type": "code",
      "source": [
        "# Example input and output shapes of a regression model\n",
        "house_info = tf.constant([\"bedroom\", \"bathroom\", \"garage\"])\n",
        "house_price = tf.constant([939700])\n",
        "house_info, house_price"
      ],
      "metadata": {
        "colab": {
          "base_uri": "https://localhost:8080/"
        },
        "id": "hbkcQdMXjRaA",
        "outputId": "0ee28789-8459-4f62-a403-c5104fc8e1fd"
      },
      "execution_count": 3,
      "outputs": [
        {
          "output_type": "execute_result",
          "data": {
            "text/plain": [
              "(<tf.Tensor: shape=(3,), dtype=string, numpy=array([b'bedroom', b'bathroom', b'garage'], dtype=object)>,\n",
              " <tf.Tensor: shape=(1,), dtype=int32, numpy=array([939700], dtype=int32)>)"
            ]
          },
          "metadata": {},
          "execution_count": 3
        }
      ]
    },
    {
      "cell_type": "markdown",
      "source": [
        "## Steps in modelling with TensorFlow\n",
        "\n",
        "Now we know what data we have as well as the input and output shapes, let's see how we'd build a neural network to model it.\n",
        "\n",
        "In TensorFlow, there are typically 3 fundamental steps to creating and training a model.\n",
        "\n",
        "1. **Creating a model** - piece together the layers of a neural network yourself (using the [Functional](https://www.tensorflow.org/guide/keras/functional_api) or [Sequential API](https://www.tensorflow.org/api_docs/python/tf/keras/Sequential)) or import a previously built model (known as transfer learning).\n",
        "2. **Compiling a model** - defining how a models performance should be measured (loss/metrics) as well as defining how it should improve (optimizer).\n",
        "3. **Fitting a model** - letting the model try to find patterns in the data (how does `X` get to `y`).\n",
        "\n",
        "Let's see these in action using the [Keras Sequential API](https://www.tensorflow.org/api_docs/python/tf/keras/Sequential) to build a model for our regression data. And then we'll step through each.\n"
      ],
      "metadata": {
        "id": "4LjSQX_Lq7DY"
      }
    },
    {
      "cell_type": "code",
      "source": [
        "# Set random seeds\n",
        "tf.random.set_seed(42)\n",
        "\n",
        "# Create a model using the Sequential API\n",
        "model = tf.keras.Sequential([\n",
        "    tf.keras.layers.Dense(1)\n",
        "])\n",
        "\n",
        "# Compile the model\n",
        "model.compile(loss=tf.keras.losses.mae, # mae is short for mean absolute error\n",
        "              optimizer=tf.keras.optimizers.SGD(), # SGD is short for stochastic gradient descent\n",
        "              metrics=[\"mae\"])\n",
        "\n",
        "# Fit the model\n",
        "model.fit(tf.expand_dims(X, axis=-1), y, epochs=5)"
      ],
      "metadata": {
        "colab": {
          "base_uri": "https://localhost:8080/"
        },
        "id": "9-RyIEKAx6Hl",
        "outputId": "bbdee24a-690b-4681-ea84-cf605c671527"
      },
      "execution_count": 4,
      "outputs": [
        {
          "output_type": "stream",
          "name": "stdout",
          "text": [
            "Epoch 1/5\n",
            "1/1 [==============================] - 2s 2s/step - loss: 14.2802 - mae: 14.2802\n",
            "Epoch 2/5\n",
            "1/1 [==============================] - 0s 23ms/step - loss: 14.1477 - mae: 14.1477\n",
            "Epoch 3/5\n",
            "1/1 [==============================] - 0s 24ms/step - loss: 14.0152 - mae: 14.0152\n",
            "Epoch 4/5\n",
            "1/1 [==============================] - 0s 16ms/step - loss: 13.8827 - mae: 13.8827\n",
            "Epoch 5/5\n",
            "1/1 [==============================] - 0s 22ms/step - loss: 13.7502 - mae: 13.7502\n"
          ]
        },
        {
          "output_type": "execute_result",
          "data": {
            "text/plain": [
              "<keras.src.callbacks.History at 0x796588f350f0>"
            ]
          },
          "metadata": {},
          "execution_count": 4
        }
      ]
    },
    {
      "cell_type": "code",
      "source": [
        "# Make a prediction with the model\n",
        "model.predict([17.0])"
      ],
      "metadata": {
        "colab": {
          "base_uri": "https://localhost:8080/"
        },
        "id": "eybDgSL9zfx3",
        "outputId": "9c526049-1efc-4d99-ad5a-3239efb8b019"
      },
      "execution_count": 5,
      "outputs": [
        {
          "output_type": "stream",
          "name": "stdout",
          "text": [
            "1/1 [==============================] - 0s 218ms/step\n"
          ]
        },
        {
          "output_type": "execute_result",
          "data": {
            "text/plain": [
              "array([[-0.76449126]], dtype=float32)"
            ]
          },
          "metadata": {},
          "execution_count": 5
        }
      ]
    },
    {
      "cell_type": "markdown",
      "source": [
        "## Improving a model\n",
        "\n",
        "How do you think you'd improve upon our current model?\n",
        "\n",
        "If you guessed by tweaking some of the things we did above, you'd be correct.\n",
        "\n",
        "To improve our model, we alter almost every part of the 3 steps we went through before.\n",
        "\n",
        "1. **Creating a model** - here you might want to add more layers, increase the number of hidden units (also called neurons) within each layer, change the activation functions of each layer.\n",
        "2. **Compiling a model** - you might want to choose optimization function or perhaps change the learning rate of the optimization function.\n",
        "3. **Fitting a model** - perhaps you could fit a model for more epochs (leave it training for longer) or on more data (give the model more examples to learn from).\n",
        "\n",
        "\n",
        "<img src=\"https://camo.githubusercontent.com/e594cf64644659fd8039e3d5ba7d71031c4cf3d5f61491fa7237db83873b9606/68747470733a2f2f7261772e67697468756275736572636f6e74656e742e636f6d2f6d7264626f75726b652f74656e736f72666c6f772d646565702d6c6561726e696e672f6d61696e2f696d616765732f30322d696d70726f76696e672d612d6d6f64656c2d66726f6d2d6d6f64656c2d70657273706563746976652e706e67\" alt=\"MarineGEO circle logo\" style=\"height: 100%; width:100%;\"/>\n",
        "\n",
        "\n",
        "*There are many different ways to potentially improve a neural network. Some of the most common include: increasing the number of layers (making the network deeper), increasing the number of hidden units (making the network wider) and changing the learning rate. Because these values are all human-changeable, they're referred to as [hyperparameters](https://en.wikipedia.org/wiki/Hyperparameter_(machine_learning)) and the practice of trying to find the best hyperparameters is referred to as [hyperparameter tuning](https://en.wikipedia.org/wiki/Hyperparameter_optimization).*"
      ],
      "metadata": {
        "id": "7G4D6FFSz3X_"
      }
    },
    {
      "cell_type": "code",
      "source": [
        "# Set random seed\n",
        "tf.random.set_seed(42)\n",
        "\n",
        "# Create a model (same as above)\n",
        "model = tf.keras.Sequential([\n",
        "  tf.keras.layers.Dense(1)\n",
        "])\n",
        "\n",
        "# Compile model (same as above)\n",
        "model.compile(loss=tf.keras.losses.mae,\n",
        "              optimizer=tf.keras.optimizers.SGD(),\n",
        "              metrics=[\"mae\"])\n",
        "\n",
        "# Fit model (this time we'll train for longer)\n",
        "model.fit(tf.expand_dims(X, axis=-1), y, epochs=100) # train for 100 epochs not 10"
      ],
      "metadata": {
        "colab": {
          "base_uri": "https://localhost:8080/"
        },
        "id": "8kKssj_y1pio",
        "outputId": "a4e00193-477d-4293-9c03-435650447a0e"
      },
      "execution_count": 6,
      "outputs": [
        {
          "output_type": "stream",
          "name": "stdout",
          "text": [
            "Epoch 1/100\n",
            "1/1 [==============================] - 1s 1s/step - loss: 20.5338 - mae: 20.5338\n",
            "Epoch 2/100\n",
            "1/1 [==============================] - 0s 14ms/step - loss: 20.2525 - mae: 20.2525\n",
            "Epoch 3/100\n",
            "1/1 [==============================] - 0s 12ms/step - loss: 19.9713 - mae: 19.9713\n",
            "Epoch 4/100\n",
            "1/1 [==============================] - 0s 27ms/step - loss: 19.6900 - mae: 19.6900\n",
            "Epoch 5/100\n",
            "1/1 [==============================] - 0s 27ms/step - loss: 19.4088 - mae: 19.4088\n",
            "Epoch 6/100\n",
            "1/1 [==============================] - 0s 24ms/step - loss: 19.1275 - mae: 19.1275\n",
            "Epoch 7/100\n",
            "1/1 [==============================] - 0s 30ms/step - loss: 18.8463 - mae: 18.8463\n",
            "Epoch 8/100\n",
            "1/1 [==============================] - 0s 23ms/step - loss: 18.5650 - mae: 18.5650\n",
            "Epoch 9/100\n",
            "1/1 [==============================] - 0s 21ms/step - loss: 18.2838 - mae: 18.2838\n",
            "Epoch 10/100\n",
            "1/1 [==============================] - 0s 31ms/step - loss: 18.0025 - mae: 18.0025\n",
            "Epoch 11/100\n",
            "1/1 [==============================] - 0s 18ms/step - loss: 17.7213 - mae: 17.7213\n",
            "Epoch 12/100\n",
            "1/1 [==============================] - 0s 24ms/step - loss: 17.4400 - mae: 17.4400\n",
            "Epoch 13/100\n",
            "1/1 [==============================] - 0s 26ms/step - loss: 17.1588 - mae: 17.1588\n",
            "Epoch 14/100\n",
            "1/1 [==============================] - 0s 23ms/step - loss: 16.8775 - mae: 16.8775\n",
            "Epoch 15/100\n",
            "1/1 [==============================] - 0s 21ms/step - loss: 16.5963 - mae: 16.5963\n",
            "Epoch 16/100\n",
            "1/1 [==============================] - 0s 24ms/step - loss: 16.3150 - mae: 16.3150\n",
            "Epoch 17/100\n",
            "1/1 [==============================] - 0s 31ms/step - loss: 16.0338 - mae: 16.0338\n",
            "Epoch 18/100\n",
            "1/1 [==============================] - 0s 20ms/step - loss: 15.7525 - mae: 15.7525\n",
            "Epoch 19/100\n",
            "1/1 [==============================] - 0s 25ms/step - loss: 15.4713 - mae: 15.4713\n",
            "Epoch 20/100\n",
            "1/1 [==============================] - 0s 43ms/step - loss: 15.1900 - mae: 15.1900\n",
            "Epoch 21/100\n",
            "1/1 [==============================] - 0s 28ms/step - loss: 14.9088 - mae: 14.9088\n",
            "Epoch 22/100\n",
            "1/1 [==============================] - 0s 18ms/step - loss: 14.6729 - mae: 14.6729\n",
            "Epoch 23/100\n",
            "1/1 [==============================] - 0s 41ms/step - loss: 14.5404 - mae: 14.5404\n",
            "Epoch 24/100\n",
            "1/1 [==============================] - 0s 24ms/step - loss: 14.4079 - mae: 14.4079\n",
            "Epoch 25/100\n",
            "1/1 [==============================] - 0s 16ms/step - loss: 14.2754 - mae: 14.2754\n",
            "Epoch 26/100\n",
            "1/1 [==============================] - 0s 32ms/step - loss: 14.1429 - mae: 14.1429\n",
            "Epoch 27/100\n",
            "1/1 [==============================] - 0s 40ms/step - loss: 14.0104 - mae: 14.0104\n",
            "Epoch 28/100\n",
            "1/1 [==============================] - 0s 43ms/step - loss: 13.8779 - mae: 13.8779\n",
            "Epoch 29/100\n",
            "1/1 [==============================] - 0s 20ms/step - loss: 13.7454 - mae: 13.7454\n",
            "Epoch 30/100\n",
            "1/1 [==============================] - 0s 20ms/step - loss: 13.6129 - mae: 13.6129\n",
            "Epoch 31/100\n",
            "1/1 [==============================] - 0s 22ms/step - loss: 13.4804 - mae: 13.4804\n",
            "Epoch 32/100\n",
            "1/1 [==============================] - 0s 37ms/step - loss: 13.3479 - mae: 13.3479\n",
            "Epoch 33/100\n",
            "1/1 [==============================] - 0s 26ms/step - loss: 13.2154 - mae: 13.2154\n",
            "Epoch 34/100\n",
            "1/1 [==============================] - 0s 22ms/step - loss: 13.0829 - mae: 13.0829\n",
            "Epoch 35/100\n",
            "1/1 [==============================] - 0s 28ms/step - loss: 12.9504 - mae: 12.9504\n",
            "Epoch 36/100\n",
            "1/1 [==============================] - 0s 43ms/step - loss: 12.8179 - mae: 12.8179\n",
            "Epoch 37/100\n",
            "1/1 [==============================] - 0s 14ms/step - loss: 12.6854 - mae: 12.6854\n",
            "Epoch 38/100\n",
            "1/1 [==============================] - 0s 14ms/step - loss: 12.5529 - mae: 12.5529\n",
            "Epoch 39/100\n",
            "1/1 [==============================] - 0s 45ms/step - loss: 12.4204 - mae: 12.4204\n",
            "Epoch 40/100\n",
            "1/1 [==============================] - 0s 29ms/step - loss: 12.2879 - mae: 12.2879\n",
            "Epoch 41/100\n",
            "1/1 [==============================] - 0s 17ms/step - loss: 12.1554 - mae: 12.1554\n",
            "Epoch 42/100\n",
            "1/1 [==============================] - 0s 17ms/step - loss: 12.0229 - mae: 12.0229\n",
            "Epoch 43/100\n",
            "1/1 [==============================] - 0s 15ms/step - loss: 11.8904 - mae: 11.8904\n",
            "Epoch 44/100\n",
            "1/1 [==============================] - 0s 14ms/step - loss: 11.7579 - mae: 11.7579\n",
            "Epoch 45/100\n",
            "1/1 [==============================] - 0s 31ms/step - loss: 11.6254 - mae: 11.6254\n",
            "Epoch 46/100\n",
            "1/1 [==============================] - 0s 21ms/step - loss: 11.4929 - mae: 11.4929\n",
            "Epoch 47/100\n",
            "1/1 [==============================] - 0s 12ms/step - loss: 11.3604 - mae: 11.3604\n",
            "Epoch 48/100\n",
            "1/1 [==============================] - 0s 24ms/step - loss: 11.2279 - mae: 11.2279\n",
            "Epoch 49/100\n",
            "1/1 [==============================] - 0s 33ms/step - loss: 11.0954 - mae: 11.0954\n",
            "Epoch 50/100\n",
            "1/1 [==============================] - 0s 22ms/step - loss: 10.9629 - mae: 10.9629\n",
            "Epoch 51/100\n",
            "1/1 [==============================] - 0s 40ms/step - loss: 10.8304 - mae: 10.8304\n",
            "Epoch 52/100\n",
            "1/1 [==============================] - 0s 50ms/step - loss: 10.6979 - mae: 10.6979\n",
            "Epoch 53/100\n",
            "1/1 [==============================] - 0s 32ms/step - loss: 10.5654 - mae: 10.5654\n",
            "Epoch 54/100\n",
            "1/1 [==============================] - 0s 26ms/step - loss: 10.4329 - mae: 10.4329\n",
            "Epoch 55/100\n",
            "1/1 [==============================] - 0s 23ms/step - loss: 10.3004 - mae: 10.3004\n",
            "Epoch 56/100\n",
            "1/1 [==============================] - 0s 19ms/step - loss: 10.1679 - mae: 10.1679\n",
            "Epoch 57/100\n",
            "1/1 [==============================] - 0s 30ms/step - loss: 10.0354 - mae: 10.0354\n",
            "Epoch 58/100\n",
            "1/1 [==============================] - 0s 24ms/step - loss: 9.9029 - mae: 9.9029\n",
            "Epoch 59/100\n",
            "1/1 [==============================] - 0s 24ms/step - loss: 9.7704 - mae: 9.7704\n",
            "Epoch 60/100\n",
            "1/1 [==============================] - 0s 34ms/step - loss: 9.6379 - mae: 9.6379\n",
            "Epoch 61/100\n",
            "1/1 [==============================] - 0s 16ms/step - loss: 9.5054 - mae: 9.5054\n",
            "Epoch 62/100\n",
            "1/1 [==============================] - 0s 18ms/step - loss: 9.3729 - mae: 9.3729\n",
            "Epoch 63/100\n",
            "1/1 [==============================] - 0s 21ms/step - loss: 9.2404 - mae: 9.2404\n",
            "Epoch 64/100\n",
            "1/1 [==============================] - 0s 22ms/step - loss: 9.1079 - mae: 9.1079\n",
            "Epoch 65/100\n",
            "1/1 [==============================] - 0s 17ms/step - loss: 8.9754 - mae: 8.9754\n",
            "Epoch 66/100\n",
            "1/1 [==============================] - 0s 15ms/step - loss: 8.8429 - mae: 8.8429\n",
            "Epoch 67/100\n",
            "1/1 [==============================] - 0s 57ms/step - loss: 8.7104 - mae: 8.7104\n",
            "Epoch 68/100\n",
            "1/1 [==============================] - 0s 29ms/step - loss: 8.5779 - mae: 8.5779\n",
            "Epoch 69/100\n",
            "1/1 [==============================] - 0s 14ms/step - loss: 8.4454 - mae: 8.4454\n",
            "Epoch 70/100\n",
            "1/1 [==============================] - 0s 26ms/step - loss: 8.3129 - mae: 8.3129\n",
            "Epoch 71/100\n",
            "1/1 [==============================] - 0s 17ms/step - loss: 8.1804 - mae: 8.1804\n",
            "Epoch 72/100\n",
            "1/1 [==============================] - 0s 26ms/step - loss: 8.0479 - mae: 8.0479\n",
            "Epoch 73/100\n",
            "1/1 [==============================] - 0s 24ms/step - loss: 7.9154 - mae: 7.9154\n",
            "Epoch 74/100\n",
            "1/1 [==============================] - 0s 28ms/step - loss: 7.7829 - mae: 7.7829\n",
            "Epoch 75/100\n",
            "1/1 [==============================] - 0s 33ms/step - loss: 7.6504 - mae: 7.6504\n",
            "Epoch 76/100\n",
            "1/1 [==============================] - 0s 33ms/step - loss: 7.5179 - mae: 7.5179\n",
            "Epoch 77/100\n",
            "1/1 [==============================] - 0s 23ms/step - loss: 7.3854 - mae: 7.3854\n",
            "Epoch 78/100\n",
            "1/1 [==============================] - 0s 22ms/step - loss: 7.2529 - mae: 7.2529\n",
            "Epoch 79/100\n",
            "1/1 [==============================] - 0s 24ms/step - loss: 7.1204 - mae: 7.1204\n",
            "Epoch 80/100\n",
            "1/1 [==============================] - 0s 24ms/step - loss: 6.9879 - mae: 6.9879\n",
            "Epoch 81/100\n",
            "1/1 [==============================] - 0s 35ms/step - loss: 6.9394 - mae: 6.9394\n",
            "Epoch 82/100\n",
            "1/1 [==============================] - 0s 36ms/step - loss: 6.9338 - mae: 6.9338\n",
            "Epoch 83/100\n",
            "1/1 [==============================] - 0s 26ms/step - loss: 6.9281 - mae: 6.9281\n",
            "Epoch 84/100\n",
            "1/1 [==============================] - 0s 26ms/step - loss: 6.9225 - mae: 6.9225\n",
            "Epoch 85/100\n",
            "1/1 [==============================] - 0s 30ms/step - loss: 6.9169 - mae: 6.9169\n",
            "Epoch 86/100\n",
            "1/1 [==============================] - 0s 39ms/step - loss: 6.9113 - mae: 6.9113\n",
            "Epoch 87/100\n",
            "1/1 [==============================] - 0s 26ms/step - loss: 6.9056 - mae: 6.9056\n",
            "Epoch 88/100\n",
            "1/1 [==============================] - 0s 34ms/step - loss: 6.9000 - mae: 6.9000\n",
            "Epoch 89/100\n",
            "1/1 [==============================] - 0s 36ms/step - loss: 6.8944 - mae: 6.8944\n",
            "Epoch 90/100\n",
            "1/1 [==============================] - 0s 30ms/step - loss: 6.8888 - mae: 6.8888\n",
            "Epoch 91/100\n",
            "1/1 [==============================] - 0s 39ms/step - loss: 6.8831 - mae: 6.8831\n",
            "Epoch 92/100\n",
            "1/1 [==============================] - 0s 33ms/step - loss: 6.8775 - mae: 6.8775\n",
            "Epoch 93/100\n",
            "1/1 [==============================] - 0s 35ms/step - loss: 6.8719 - mae: 6.8719\n",
            "Epoch 94/100\n",
            "1/1 [==============================] - 0s 30ms/step - loss: 6.8663 - mae: 6.8663\n",
            "Epoch 95/100\n",
            "1/1 [==============================] - 0s 25ms/step - loss: 6.8606 - mae: 6.8606\n",
            "Epoch 96/100\n",
            "1/1 [==============================] - 0s 32ms/step - loss: 6.8550 - mae: 6.8550\n",
            "Epoch 97/100\n",
            "1/1 [==============================] - 0s 25ms/step - loss: 6.8494 - mae: 6.8494\n",
            "Epoch 98/100\n",
            "1/1 [==============================] - 0s 24ms/step - loss: 6.8438 - mae: 6.8438\n",
            "Epoch 99/100\n",
            "1/1 [==============================] - 0s 22ms/step - loss: 6.8381 - mae: 6.8381\n",
            "Epoch 100/100\n",
            "1/1 [==============================] - 0s 24ms/step - loss: 6.8325 - mae: 6.8325\n"
          ]
        },
        {
          "output_type": "execute_result",
          "data": {
            "text/plain": [
              "<keras.src.callbacks.History at 0x79658856bb20>"
            ]
          },
          "metadata": {},
          "execution_count": 6
        }
      ]
    },
    {
      "cell_type": "code",
      "source": [
        "# Try and predict what y would be if X was 17.0\n",
        "model.predict([17.0]) # the right answer is 27.0 (y = X + 10)"
      ],
      "metadata": {
        "colab": {
          "base_uri": "https://localhost:8080/"
        },
        "id": "tAOw-ldv1y2G",
        "outputId": "81cb3fe6-6b6e-43c3-8468-d3c1ca8ad32e"
      },
      "execution_count": 7,
      "outputs": [
        {
          "output_type": "stream",
          "name": "stdout",
          "text": [
            "1/1 [==============================] - 0s 159ms/step\n"
          ]
        },
        {
          "output_type": "execute_result",
          "data": {
            "text/plain": [
              "array([[29.540426]], dtype=float32)"
            ]
          },
          "metadata": {},
          "execution_count": 7
        }
      ]
    },
    {
      "cell_type": "markdown",
      "source": [
        "Much better!\n",
        "\n",
        "We got closer this time. But we could still be better.\n",
        "\n",
        "Now we've trained a model, how could we evaluate it?"
      ],
      "metadata": {
        "id": "MNqQDIKD17cu"
      }
    },
    {
      "cell_type": "markdown",
      "source": [
        "## Evaluating a model\n",
        "A typical workflow you'll go through when building neural networks is:\n",
        "\n",
        "> Build a model -> evaluate it -> build (tweak) a model -> evaulate it -> build (tweak) a model -> evaluate it...\n",
        "\n",
        "The tweaking comes from maybe not building a model from scratch but adjusting an existing one.\n",
        "\n"
      ],
      "metadata": {
        "id": "BGG_5tYD2DIi"
      }
    },
    {
      "cell_type": "markdown",
      "source": [
        "## Visualize, visualize, visualize\n",
        "\n",
        "When it comes to evaluation, you'll want to remember the words: \"visualize, visualize, visualize.\"\n",
        "\n",
        "This is because you're probably better looking at something (doing) than you are thinking about something.\n",
        "\n",
        "It's a good idea to visualize:\n",
        "\n",
        "* **The data** - what data are you working with? What does it look like?\n",
        "* **The model itself** - what does the architecture look like? What are the different shapes?\n",
        "* **The training of a model** - how does a model perform while it learns?\n",
        "* **The predictions of a model** - how do the predictions of a model line up against the ground truth (the original labels)?\n",
        "\n",
        "Let's start by visualizing the model.\n",
        "\n",
        "But first, we'll create a little bit of a bigger dataset and a new model we can use (it'll be the same as before, but the more practice the better)."
      ],
      "metadata": {
        "id": "VCB7ImVg2g-z"
      }
    },
    {
      "cell_type": "code",
      "source": [
        "# Make bigger database\n",
        "X = np.arange(-100, 100, 4)\n",
        "X"
      ],
      "metadata": {
        "id": "yT3lZdpt2lHf",
        "colab": {
          "base_uri": "https://localhost:8080/"
        },
        "outputId": "c1f1dc4a-0e8e-41d9-fb1e-cef42ee49025"
      },
      "execution_count": 8,
      "outputs": [
        {
          "output_type": "execute_result",
          "data": {
            "text/plain": [
              "array([-100,  -96,  -92,  -88,  -84,  -80,  -76,  -72,  -68,  -64,  -60,\n",
              "        -56,  -52,  -48,  -44,  -40,  -36,  -32,  -28,  -24,  -20,  -16,\n",
              "        -12,   -8,   -4,    0,    4,    8,   12,   16,   20,   24,   28,\n",
              "         32,   36,   40,   44,   48,   52,   56,   60,   64,   68,   72,\n",
              "         76,   80,   84,   88,   92,   96])"
            ]
          },
          "metadata": {},
          "execution_count": 8
        }
      ]
    },
    {
      "cell_type": "code",
      "source": [
        "# Make labels for the dataset (adhering to the same pettern as before)\n",
        "y = np.arange(-90, 110, 4)\n",
        "y"
      ],
      "metadata": {
        "colab": {
          "base_uri": "https://localhost:8080/"
        },
        "id": "0-1aL6QaIgI-",
        "outputId": "596aa451-9b2a-4336-a851-958efeb0881f"
      },
      "execution_count": 9,
      "outputs": [
        {
          "output_type": "execute_result",
          "data": {
            "text/plain": [
              "array([-90, -86, -82, -78, -74, -70, -66, -62, -58, -54, -50, -46, -42,\n",
              "       -38, -34, -30, -26, -22, -18, -14, -10,  -6,  -2,   2,   6,  10,\n",
              "        14,  18,  22,  26,  30,  34,  38,  42,  46,  50,  54,  58,  62,\n",
              "        66,  70,  74,  78,  82,  86,  90,  94,  98, 102, 106])"
            ]
          },
          "metadata": {},
          "execution_count": 9
        }
      ]
    },
    {
      "cell_type": "markdown",
      "source": [
        "## Split data into training/test set\n",
        "One of the other most common and important steps in a machine learning project is creating a training and test set (and when required, a validation set).\n",
        "\n",
        "Each set serves a specific purpose:\n",
        "\n",
        "* **Training set -** the model learns from this data, which is typically 70-80% of the total data available (like the course materials you study during the semester).\n",
        "* **Validation set -** the model gets tuned on this data, which is typically 10-15% of the total data available (like the practice exam you take before the final exam).\n",
        "* **Test set -** the model gets evaluated on this data to test what it has learned, it's typically 10-15% of the total data available (like the final exam you take at the end of the semester).\n",
        "For now, we'll just use a training and test set, this means we'll have a dataset for our model to learn on as well as be evaluated on.\n",
        "\n",
        "We can create them by splitting our X and y arrays.\n",
        "\n",
        ">🔑 **Note:** When dealing with real-world data, this step is typically done right at the start of a project (the test set should always be kept separate from all other data). We want our model to learn on training data and then evaluate it on test data to get an indication of how well it **generalizes** to unseen examples."
      ],
      "metadata": {
        "id": "4P-qIMXmIwGa"
      }
    },
    {
      "cell_type": "code",
      "source": [
        "# Split data into train and test sets\n",
        "X_train = X[:40] # first 40 examples (80% of data)\n",
        "y_train = y[:40]\n",
        "\n",
        "X_test = X[40:] # last 10 examples (20% of data)\n",
        "y_test = y[40:]\n",
        "\n",
        "len(X_train), len(X_test)"
      ],
      "metadata": {
        "colab": {
          "base_uri": "https://localhost:8080/"
        },
        "id": "NqFV3SENLtVZ",
        "outputId": "215b33c4-0ce7-45e1-9c2e-6a1cfa41596c"
      },
      "execution_count": 10,
      "outputs": [
        {
          "output_type": "execute_result",
          "data": {
            "text/plain": [
              "(40, 10)"
            ]
          },
          "metadata": {},
          "execution_count": 10
        }
      ]
    },
    {
      "cell_type": "markdown",
      "source": [
        "## Visualizing the data\n",
        "Now we've got our training and test data, it's a good idea to visualize it.\n",
        "\n",
        "Let's plot it with some nice colours to differentiate what's what."
      ],
      "metadata": {
        "id": "kcpmogoTLyFn"
      }
    },
    {
      "cell_type": "code",
      "source": [
        "plt.figure(figsize=(10, 7))\n",
        "\n",
        "plt.scatter(X_train, y_train, c=\"b\", label=\"Training data\")\n",
        "plt.scatter(X_test, y_test, c=\"g\", label=\"Testing data\")\n",
        "plt.legend();"
      ],
      "metadata": {
        "colab": {
          "base_uri": "https://localhost:8080/",
          "height": 599
        },
        "id": "zJ77CF3kL3t9",
        "outputId": "69a4421e-c0ca-4f41-a40e-140618c97717"
      },
      "execution_count": 11,
      "outputs": [
        {
          "output_type": "display_data",
          "data": {
            "text/plain": [
              "<Figure size 1000x700 with 1 Axes>"
            ],
            "image/png": "[encoded data removed]"
          },
          "metadata": {}
        }
      ]
    },
    {
      "cell_type": "markdown",
      "source": [
        "## Visualizing the model\n",
        "After you've built a model, you might want to take a look at it (especially if you haven't built many before).\n",
        "\n",
        "You can take a look at the layers and shapes of your model by calling `summary()` on it.\n",
        "\n",
        ">🔑 **Note:** Visualizing a model is particularly helpful when you run into input and output shape mismatches."
      ],
      "metadata": {
        "id": "v1igGnMGNiP1"
      }
    },
    {
      "cell_type": "code",
      "source": [
        "#  Set random seed\n",
        "tf.random.set_seed(42)\n",
        "\n",
        "# Create a model (same as above)\n",
        "model = tf.keras.Sequential([\n",
        "  tf.keras.layers.Dense(1, input_shape=[1]) # define the input_shape to our model\n",
        "])\n",
        "\n",
        "# Compile model (same as above)\n",
        "model.compile(loss=tf.keras.losses.mae,\n",
        "              optimizer=tf.keras.optimizers.SGD(),\n",
        "              metrics=[\"mae\"])"
      ],
      "metadata": {
        "id": "WP9TgAwQMmlT"
      },
      "execution_count": 12,
      "outputs": []
    },
    {
      "cell_type": "code",
      "source": [
        "model.summary()"
      ],
      "metadata": {
        "colab": {
          "base_uri": "https://localhost:8080/"
        },
        "id": "0-ZJ3qDjMm6C",
        "outputId": "183faf3f-635f-40f1-ca55-ea602b975697"
      },
      "execution_count": 13,
      "outputs": [
        {
          "output_type": "stream",
          "name": "stdout",
          "text": [
            "Model: \"sequential_2\"\n",
            "_________________________________________________________________\n",
            " Layer (type)                Output Shape              Param #   \n",
            "=================================================================\n",
            " dense_2 (Dense)             (None, 1)                 2         \n",
            "                                                                 \n",
            "=================================================================\n",
            "Total params: 2 (8.00 Byte)\n",
            "Trainable params: 2 (8.00 Byte)\n",
            "Non-trainable params: 0 (0.00 Byte)\n",
            "_________________________________________________________________\n"
          ]
        }
      ]
    },
    {
      "cell_type": "markdown",
      "source": [
        "Calling `summary()` on our model shows us the layers it contains, the output shape and the number of parameters.\n",
        "\n",
        "* **Total params -** total number of parameters in the model.\n",
        "* **Trainable parameters -** these are the parameters (patterns) the model can update as it trains.\n",
        "* **Non-trainable parameters -** these parameters aren't updated during training (this is typical when you bring in the already learned patterns from other models during transfer learning)."
      ],
      "metadata": {
        "id": "mu9pNALPMoPz"
      }
    },
    {
      "cell_type": "code",
      "source": [
        "# Fit the model to the training data\n",
        "model.fit(X_train, y_train, epochs=100, verbose=0) # verbose controls how much gets output"
      ],
      "metadata": {
        "colab": {
          "base_uri": "https://localhost:8080/"
        },
        "id": "EbS4sHZiMpfM",
        "outputId": "1b7bf35e-29ed-47ea-c2fe-8a85ba9bd2b5"
      },
      "execution_count": 14,
      "outputs": [
        {
          "output_type": "execute_result",
          "data": {
            "text/plain": [
              "<keras.src.callbacks.History at 0x796589821600>"
            ]
          },
          "metadata": {},
          "execution_count": 14
        }
      ]
    },
    {
      "cell_type": "code",
      "source": [
        "model.summary()"
      ],
      "metadata": {
        "colab": {
          "base_uri": "https://localhost:8080/"
        },
        "id": "rLjbEU26Mpab",
        "outputId": "0006549d-a7cf-41bb-e63c-17e910c2cdde"
      },
      "execution_count": 16,
      "outputs": [
        {
          "output_type": "stream",
          "name": "stdout",
          "text": [
            "Model: \"sequential_2\"\n",
            "_________________________________________________________________\n",
            " Layer (type)                Output Shape              Param #   \n",
            "=================================================================\n",
            " dense_2 (Dense)             (None, 1)                 2         \n",
            "                                                                 \n",
            "=================================================================\n",
            "Total params: 2 (8.00 Byte)\n",
            "Trainable params: 2 (8.00 Byte)\n",
            "Non-trainable params: 0 (0.00 Byte)\n",
            "_________________________________________________________________\n"
          ]
        }
      ]
    },
    {
      "cell_type": "markdown",
      "source": [
        "Alongside summary, you can also view a 2D plot of the model using `plot_model()`."
      ],
      "metadata": {
        "id": "sGlRFooEMpXR"
      }
    },
    {
      "cell_type": "code",
      "source": [
        "from tensorflow.keras.utils import plot_model\n",
        "\n",
        "plot_model(model, show_shapes=True)"
      ],
      "metadata": {
        "colab": {
          "base_uri": "https://localhost:8080/",
          "height": 201
        },
        "id": "3VQE5MDiMpUw",
        "outputId": "2f14c819-e0bc-44d5-cad5-60beb6c129a1"
      },
      "execution_count": 18,
      "outputs": [
        {
          "output_type": "execute_result",
          "data": {
            "image/png": "[encoded data removed]",
            "text/plain": [
              "<IPython.core.display.Image object>"
            ]
          },
          "metadata": {},
          "execution_count": 18
        }
      ]
    },
    {
      "cell_type": "markdown",
      "source": [
        "In our case, the model we used only has an input and an output but visualizing more complicated models can be very helpful for debugging.\n",
        "\n"
      ],
      "metadata": {
        "id": "bveNkNRBMpSI"
      }
    },
    {
      "cell_type": "markdown",
      "source": [
        "## Visualizing the predictions\n",
        "Now we've got a trained model, let's visualize some predictions.\n",
        "\n",
        "To visualize predictions, it's always a good idea to plot them against the ground truth labels.\n",
        "\n",
        "Often you'll see this in the form of `y_test` vs. `y_pred` (ground truth vs. predictions).\n",
        "\n",
        "First, we'll make some predictions on the test data (`X_test`), remember the model has never seen the test data."
      ],
      "metadata": {
        "id": "GMjuMszMMpQG"
      }
    },
    {
      "cell_type": "code",
      "source": [
        "# Make predictions\n",
        "y_preds = model.predict(X_test)"
      ],
      "metadata": {
        "colab": {
          "base_uri": "https://localhost:8080/"
        },
        "id": "JCCbzZTNMpNu",
        "outputId": "b09deed7-de0f-40dc-a22a-414f5068f685"
      },
      "execution_count": 19,
      "outputs": [
        {
          "output_type": "stream",
          "name": "stdout",
          "text": [
            "1/1 [==============================] - 0s 95ms/step\n"
          ]
        }
      ]
    },
    {
      "cell_type": "code",
      "source": [
        "y_preds"
      ],
      "metadata": {
        "colab": {
          "base_uri": "https://localhost:8080/"
        },
        "id": "dcHEY5XOMpLY",
        "outputId": "8f3ce9f0-650b-45f4-d6e3-b92efd963a3e"
      },
      "execution_count": 20,
      "outputs": [
        {
          "output_type": "execute_result",
          "data": {
            "text/plain": [
              "array([[ 74.639786],\n",
              "       [ 79.52823 ],\n",
              "       [ 84.41667 ],\n",
              "       [ 89.305115],\n",
              "       [ 94.19356 ],\n",
              "       [ 99.082   ],\n",
              "       [103.97045 ],\n",
              "       [108.858894],\n",
              "       [113.74734 ],\n",
              "       [118.63578 ]], dtype=float32)"
            ]
          },
          "metadata": {},
          "execution_count": 20
        }
      ]
    },
    {
      "cell_type": "markdown",
      "source": [
        "Okay, we get a list of numbers but how do these compare to the ground truth labels?\n",
        "\n",
        "Let's build a plotting function to find out.\n",
        "\n",
        ">🔑 **Note:** If you think you're going to be visualizing something a lot, it's a good idea to functionize it so you can use it later."
      ],
      "metadata": {
        "id": "GQpjKv7XMpI4"
      }
    },
    {
      "cell_type": "code",
      "source": [
        "def plot_predictions(train_data=X_train,\n",
        "                     train_labels=y_train,\n",
        "                     test_data=X_test,\n",
        "                     test_labels=y_test,\n",
        "                     predictions=y_preds):\n",
        "  \"\"\"\n",
        "  Plots training data, test data and compares predictions.\n",
        "  \"\"\"\n",
        "  plt.figure(figsize=(10, 7))\n",
        "  # Plot training data in blue\n",
        "  plt.scatter(train_data, train_labels, c=\"b\", label=\"Training data\")\n",
        "  # Plot test data in green\n",
        "  plt.scatter(test_data, test_labels, c=\"g\", label=\"Testing data\")\n",
        "  # Plot the predictions in red (predictions were made on the test data)\n",
        "  plt.scatter(test_data, predictions, c=\"r\", label=\"Predictions\")\n",
        "  # Show the legend\n",
        "  plt.legend();"
      ],
      "metadata": {
        "id": "RT64pAGiMpF2"
      },
      "execution_count": 21,
      "outputs": []
    },
    {
      "cell_type": "code",
      "source": [
        "plot_predictions(train_data=X_train,\n",
        "                 train_labels=y_train,\n",
        "                 test_data=X_test,\n",
        "                 test_labels=y_test,\n",
        "                 predictions=y_preds)"
      ],
      "metadata": {
        "colab": {
          "base_uri": "https://localhost:8080/",
          "height": 599
        },
        "id": "3dGfEOo0MpCT",
        "outputId": "661933f3-1917-4755-e4d5-247ac0af783d"
      },
      "execution_count": 23,
      "outputs": [
        {
          "output_type": "display_data",
          "data": {
            "text/plain": [
              "<Figure size 1000x700 with 1 Axes>"
            ],
            "image/png": "[encoded data removed]"
          },
          "metadata": {}
        }
      ]
    },
    {
      "cell_type": "markdown",
      "source": [
        "From the plot we can see our predictions aren't totally outlandish but they definitely aren't anything special either."
      ],
      "metadata": {
        "id": "csdTK7MeMo_8"
      }
    },
    {
      "cell_type": "markdown",
      "source": [
        "## Evaluating predictions\n",
        "Alongisde visualizations, evaulation metrics are your alternative best option for evaluating your model.\n",
        "\n",
        "Depending on the problem you're working on, different models have different evaluation metrics.\n",
        "\n",
        "Two of the main metrics used for regression problems are:\n",
        "\n",
        "* **Mean absolute error (MAE) -** the mean difference between each of the predictions.\n",
        "* **Mean squared error (MSE) -** the squared mean difference between of the predictions (use if larger errors are more detrimental than smaller errors).\n",
        "The lower each of these values, the better.\n",
        "\n",
        "You can also use `model.evaluate()` which will return the loss of the model as well as any metrics setup during the compile step."
      ],
      "metadata": {
        "id": "g7_dQWMhMo9T"
      }
    },
    {
      "cell_type": "code",
      "source": [],
      "metadata": {
        "id": "dAxJEp5EMo7C"
      },
      "execution_count": null,
      "outputs": []
    },
    {
      "cell_type": "code",
      "source": [],
      "metadata": {
        "id": "IRhQSXZ6Mo4k"
      },
      "execution_count": null,
      "outputs": []
    },
    {
      "cell_type": "code",
      "source": [],
      "metadata": {
        "id": "aQL7yHlEMo2L"
      },
      "execution_count": null,
      "outputs": []
    },
    {
      "cell_type": "code",
      "source": [],
      "metadata": {
        "id": "qCxv7qwkMoz5"
      },
      "execution_count": null,
      "outputs": []
    },
    {
      "cell_type": "code",
      "source": [],
      "metadata": {
        "id": "1-0bp-BsMoxW"
      },
      "execution_count": null,
      "outputs": []
    },
    {
      "cell_type": "code",
      "source": [],
      "metadata": {
        "id": "EZkz_3oHMoun"
      },
      "execution_count": null,
      "outputs": []
    },
    {
      "cell_type": "code",
      "source": [],
      "metadata": {
        "id": "sqXYEyMxMon2"
      },
      "execution_count": null,
      "outputs": []
    },
    {
      "cell_type": "code",
      "source": [],
      "metadata": {
        "id": "fnwTBDhMMnTa"
      },
      "execution_count": null,
      "outputs": []
    }
  ]
}